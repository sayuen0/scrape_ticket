{
 "cells": [
  {
   "cell_type": "code",
   "execution_count": 4,
   "metadata": {},
   "outputs": [
    {
     "name": "stdout",
     "output_type": "stream",
     "text": [
      "370\n",
      "<class 'str'>\n"
     ]
    }
   ],
   "source": [
    "##文字列から数値だけ抜き出すテスト\n",
    "# 正規表現操作のライブラリ\n",
    "import re\n",
    "\n",
    "# re.sub(正規表現パターン, 置換後文字列, 置換したい文字列)\n",
    "# \\D : 10進数でない任意の文字。（全角数字等を含む）\n",
    "num = re.sub(\"\\\\D\", \"\", \"金券の検索結果370件\")\n",
    "print(num)    \n",
    "print(type(num))"
   ]
  },
  {
   "cell_type": "code",
   "execution_count": null,
   "metadata": {},
   "outputs": [],
   "source": [
    "# メソダイズ\n",
    "\n",
    "def get_item_count(str):\n",
    "    num = re.sub(\"\\\\D\", \"\",str)\n",
    "    return int(num)"
   ]
  }
 ],
 "metadata": {
  "kernelspec": {
   "display_name": "Python 3",
   "language": "python",
   "name": "python3"
  },
  "language_info": {
   "codemirror_mode": {
    "name": "ipython",
    "version": 3
   },
   "file_extension": ".py",
   "mimetype": "text/x-python",
   "name": "python",
   "nbconvert_exporter": "python",
   "pygments_lexer": "ipython3",
   "version": "3.7.3"
  }
 },
 "nbformat": 4,
 "nbformat_minor": 2
}
