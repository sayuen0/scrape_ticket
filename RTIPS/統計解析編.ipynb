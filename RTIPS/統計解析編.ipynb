{
 "cells": [
  {
   "cell_type": "markdown",
   "metadata": {},
   "source": [
    "# 59. 基本統計量の算出\n",
    "[R\\-Source](http://cse.naro.affrc.go.jp/takezawa/r-tips/r/59.html)\n",
    "\n",
    "\n",
    "データを読み込ませた後は，次に紹介する関数で基本統計量を求めることになる．\n",
    "\n",
    "関数\n",
    "\n",
    "ave(x)\n",
    "\n",
    "fivenum(x)\n",
    "\n",
    "IQR(x)\n",
    "\n",
    "max(x)\n",
    "\n",
    "mean(x)\n",
    "\n",
    "median(x)\n",
    "\n",
    "min(x)\n",
    "\n",
    "意味\n",
    "\n",
    "平均(因子)\n",
    "\n",
    "5数要約\n",
    "\n",
    "4分位偏差\n",
    "\n",
    "最大値\n",
    "\n",
    "平均\n",
    "\n",
    "中央値\n",
    "\n",
    "最小値\n",
    "\n",
    " \n",
    "\n",
    "関数\n",
    "\n",
    "quantile(x)\n",
    "\n",
    "range(x)\n",
    "\n",
    "sd(x)\n",
    "\n",
    "sum(x)\n",
    "\n",
    "var(x,y)\n",
    "\n",
    "weighted.mean(x)\n",
    "\n",
    "意味\n",
    "\n",
    "クォンタイル点\n",
    "\n",
    "範囲\n",
    "\n",
    "不偏標準偏差\n",
    "\n",
    "総和\n",
    "\n",
    "不偏分散\n",
    "\n",
    "重み付け平均"
   ]
  },
  {
   "cell_type": "code",
   "execution_count": 1,
   "metadata": {},
   "outputs": [],
   "source": [
    " x <- c(0.7,-1.6,-0.2,-1.2,-0.1,3.4,3.7,0.8,0.0,2.0)   # グループ 1 の睡眠時間の増加を示すデータ　\n",
    " y <- c(1.9, 0.8, 1.1, 0.1,-0.1,4.4,5.5,1.6,4.6,3.4)   # グループ 2 の睡眠時間の増加を示すデータ\n",
    "\n"
   ]
  },
  {
   "cell_type": "code",
   "execution_count": 4,
   "metadata": {},
   "outputs": [
    {
     "data": {
      "text/plain": [
       "   Min. 1st Qu.  Median    Mean 3rd Qu.    Max. \n",
       " -1.600  -0.175   0.350   0.750   1.700   3.700 "
      ]
     },
     "metadata": {},
     "output_type": "display_data"
    }
   ],
   "source": [
    "# 要約統計量\n",
    "summary(x)"
   ]
  },
  {
   "cell_type": "code",
   "execution_count": 6,
   "metadata": {},
   "outputs": [
    {
     "data": {
      "text/html": [
       "3.20055555555556"
      ],
      "text/latex": [
       "3.20055555555556"
      ],
      "text/markdown": [
       "3.20055555555556"
      ],
      "text/plain": [
       "[1] 3.200556"
      ]
     },
     "metadata": {},
     "output_type": "display_data"
    },
    {
     "data": {
      "text/html": [
       "2.8805"
      ],
      "text/latex": [
       "2.8805"
      ],
      "text/markdown": [
       "2.8805"
      ],
      "text/plain": [
       "[1] 2.8805"
      ]
     },
     "metadata": {},
     "output_type": "display_data"
    }
   ],
   "source": [
    "# 不偏分散 (n-1で割ったやつ)\n",
    "var(x)\n",
    "\n",
    "\n",
    " variance <- function(x) var(x)*(length(x)-1)/length(x)   # 標本分散を求める関数を定義\n",
    " variance(x)\n",
    "\n",
    "\n",
    " sd(x)                                                    # 不偏標準偏差 \n",
    "\n",
    " sqrt(variance(x))                                        # 標本標準偏差 "
   ]
  },
  {
   "cell_type": "code",
   "execution_count": 7,
   "metadata": {},
   "outputs": [
    {
     "data": {
      "text/html": [
       "2.84833333333333"
      ],
      "text/latex": [
       "2.84833333333333"
      ],
      "text/markdown": [
       "2.84833333333333"
      ],
      "text/plain": [
       "[1] 2.848333"
      ]
     },
     "metadata": {},
     "output_type": "display_data"
    },
    {
     "data": {
      "text/html": [
       "0.795170205833578"
      ],
      "text/latex": [
       "0.795170205833578"
      ],
      "text/markdown": [
       "0.795170205833578"
      ],
      "text/plain": [
       "[1] 0.7951702"
      ]
     },
     "metadata": {},
     "output_type": "display_data"
    }
   ],
   "source": [
    "var(x,y)# 不偏共分散\n",
    "\n",
    "cor(x,y) #相関係数"
   ]
  },
  {
   "cell_type": "markdown",
   "metadata": {},
   "source": [
    "# 60. 確率分布と乱数\n",
    "[R\\-Source](http://cse.naro.affrc.go.jp/takezawa/r-tips/r/60.html)\n",
    "\n",
    "?そこまでやる必要があるのか疑問視されるので保留"
   ]
  },
  {
   "cell_type": "markdown",
   "metadata": {},
   "source": [
    " # 61. データの分布とヒストグラム・密度推定\n",
    "\n",
    "\n",
    "[61\\. データの分布とヒストグラム・密度推定\n",
    "](http://cse.naro.affrc.go.jp/takezawa/r-tips/r/61.html)\n",
    "これも飛ばす"
   ]
  },
  {
   "cell_type": "markdown",
   "metadata": {},
   "source": [
    "# 62.　検定事始め\n",
    "\n",
    "\n",
    "[R\\-Source](http://cse.naro.affrc.go.jp/takezawa/r-tips/r/62.html)\n",
    "\n",
    " 例として，10 人の患者から成る 2 つのグループがあり，それぞれの患者に2つの睡眠薬を飲ませ，睡眠時間がどれだけ増加したかを示すデータ（データ名：sleep）を挙げる．\n",
    " "
   ]
  },
  {
   "cell_type": "code",
   "execution_count": 8,
   "metadata": {},
   "outputs": [],
   "source": [
    "\n",
    " group1 <- c(0.7,-1.6,-0.2,-1.2,-0.1,3.4,3.7,0.8,0.0,2.0)    # グループ 1 の睡眠時間の増加\n",
    " group2 <- c(1.9, 0.8, 1.1, 0.1,-0.1,4.4,5.5,1.6,4.6,3.4)    # グループ 2 の睡眠時間の増加\n"
   ]
  },
  {
   "cell_type": "code",
   "execution_count": 10,
   "metadata": {},
   "outputs": [
    {
     "ename": "ERROR",
     "evalue": "Error in match.arg(alternative): 'arg' must be of length 1\n",
     "output_type": "error",
     "traceback": [
      "Error in match.arg(alternative): 'arg' must be of length 1\nTraceback:\n",
      "1. t.test(x, alternative = c(\"two.sided\", \"less\", \"grater\"), mu = 0, \n .     paired = FALSE, var.equal = FALSE, conf.level = 0.95)",
      "2. t.test.default(x, alternative = c(\"two.sided\", \"less\", \"grater\"), \n .     mu = 0, paired = FALSE, var.equal = FALSE, conf.level = 0.95)",
      "3. match.arg(alternative)",
      "4. stop(\"'arg' must be of length 1\")"
     ]
    }
   ],
   "source": [
    "# 一標本t 検定\n",
    "\n",
    "t.test(x,alternative=c(\"two.sided\", \"less\", \"greater\"), mu=0, paired=FALSE, var.equal=FALSE, conf.level=0.95)"
   ]
  },
  {
   "cell_type": "code",
   "execution_count": null,
   "metadata": {},
   "outputs": [],
   "source": []
  }
 ],
 "metadata": {
  "kernelspec": {
   "display_name": "R",
   "language": "R",
   "name": "ir"
  },
  "language_info": {
   "codemirror_mode": "r",
   "file_extension": ".r",
   "mimetype": "text/x-r-source",
   "name": "R",
   "pygments_lexer": "r",
   "version": "3.5.1"
  }
 },
 "nbformat": 4,
 "nbformat_minor": 2
}
