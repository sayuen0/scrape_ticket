{
 "cells": [
  {
   "cell_type": "markdown",
   "metadata": {},
   "source": [
    "# 単回帰分析練習"
   ]
  },
  {
   "cell_type": "code",
   "execution_count": 39,
   "metadata": {},
   "outputs": [
    {
     "name": "stdout",
     "output_type": "stream",
     "text": [
      "   x1    x2  x3\n",
      "0  45  17.5  30\n",
      "1  38  17.0  25\n",
      "2  41  18.5  20\n",
      "3  34  18.5  30\n",
      "4  59  16.0  45\n",
      "5  47  19.0  35\n",
      "6  35  19.5  25\n",
      "7  43  16.0  35\n",
      "8  54  18.0  35\n",
      "9  52  19.0  40\n",
      "[[45]\n",
      " [38]\n",
      " [41]\n",
      " [34]\n",
      " [59]\n",
      " [47]\n",
      " [35]\n",
      " [43]\n",
      " [54]\n",
      " [52]]\n",
      "[17.5 17.  18.5 18.5 16.  19.  19.5 16.  18.  19. ]\n",
      "回帰係数 -0.049548095545513246\n",
      "切片: 20.11975468043899\n",
      "決定係数: 0.10943356354296774\n"
     ]
    },
    {
     "data": {
      "text/plain": [
       "['./cfl.learn']"
      ]
     },
     "execution_count": 39,
     "metadata": {},
     "output_type": "execute_result"
    }
   ],
   "source": [
    "import pandas as pd \n",
    "import numpy as np\n",
    "from sklearn import linear_model\n",
    "from sklearn.externals import joblib\n",
    "\n",
    "\n",
    "# 「x1が気温、x2がガチャの売り上げ。気温からガチャの売り上げを予測する」らしい\n",
    "\n",
    "data = pd.read_csv(\"data.csv\");print(data)\n",
    "\n",
    "#  線形回帰モデル\n",
    "\n",
    "clf = linear_model.LinearRegression()\n",
    "\n",
    "# 説明変数xに\"x1\"のデータを使用\n",
    "# 説明変数はn個の二次元配列で渡す必要がある\n",
    "# x = data.loc[:, \"x1\"] じゃダメ。\n",
    "x = data.loc[:,[\"x1\"]].values;print(x)\n",
    "\n",
    "# 目的変数yに\"x2\"のデータを使用\n",
    "# 被説明変数は一次元配列で良い\n",
    "y = data[\"x2\"].values;print(y)\n",
    "\n",
    "# 予測モデルを作成(単回帰)\n",
    "clf.fit(x,y)\n",
    "\n",
    "# パラメータ(回帰係数, 切片)を抽出\n",
    "[b] = clf.coef_\n",
    "a = clf.intercept_\n",
    "\n",
    "# パラメータの表示\n",
    "print(\"回帰係数\",b)\n",
    "print(\"切片:\",a)\n",
    "print(\"決定係数:\",clf.score(x,y))\n",
    "\n",
    "# 学習結果の出力\n",
    "joblib.dump(clf,\"./cfl.learn\")"
   ]
  },
  {
   "cell_type": "code",
   "execution_count": 35,
   "metadata": {},
   "outputs": [
    {
     "data": {
      "text/plain": [
       "array([[45],\n",
       "       [38],\n",
       "       [41],\n",
       "       [34],\n",
       "       [59],\n",
       "       [47],\n",
       "       [35],\n",
       "       [43],\n",
       "       [54],\n",
       "       [52]])"
      ]
     },
     "execution_count": 35,
     "metadata": {},
     "output_type": "execute_result"
    }
   ],
   "source": [
    "# ここで登場した文法について\n",
    "\n",
    "data\n",
    "# loc, ilocで行の指定を:（全体のスライス）にすると列全体を参照できる。\n",
    "d = data.loc[:, [\"x1\"]].values;\n",
    "# つまりこれはx1列全体\n",
    "# [\"X1\"]と包んでいるのは配列にしたいから？\n",
    "# 配列にする必要があるのか？\n",
    "d"
   ]
  },
  {
   "cell_type": "markdown",
   "metadata": {},
   "source": [
    "# 重回帰分析"
   ]
  },
  {
   "cell_type": "code",
   "execution_count": 42,
   "metadata": {},
   "outputs": [
    {
     "name": "stdout",
     "output_type": "stream",
     "text": [
      "[[45.  17.5]\n",
      " [38.  17. ]\n",
      " [41.  18.5]\n",
      " [34.  18.5]\n",
      " [59.  16. ]\n",
      " [47.  19. ]\n",
      " [35.  19.5]\n",
      " [43.  16. ]\n",
      " [54.  18. ]\n",
      " [52.  19. ]]\n",
      "回帰係数:  [ 0.70068905 -0.64667957]\n",
      "切片： 12.184694815481183\n",
      "決定係数： 0.6624246214760456\n"
     ]
    }
   ],
   "source": [
    "import pandas as pd \n",
    "import numpy as np\n",
    "from sklearn import linear_model\n",
    "from sklearn.externals import joblib\n",
    "\n",
    "\n",
    "# 「景気動向指数」「若者の平均年収」から「ガチャの売り上げ」を予測する\n",
    "\n",
    "data = pd.read_csv(\"data.csv\")\n",
    "clf = linear_model.LinearRegression()\n",
    "\n",
    "# 説明変数にx1とx2を使用\n",
    "X =data.loc[:, [\"x1\",\"x2\"]].values;print(X)\n",
    "\n",
    "# なるほど、重回帰分析前提で使うから一個体を一配列とみなさないといけないのだ\n",
    "\n",
    "\n",
    "# 目的変数にx3のデータを使用\n",
    "\n",
    "# 目的変数にx３のデータを使用\n",
    "Y = data[\"x3\"].values\n",
    "\n",
    "# 予測モデルを作成\n",
    "clf.fit(X,Y)\n",
    "\n",
    "# 回帰係数と切片の抽出\n",
    "a = clf.coef_\n",
    "b = clf.intercept_\n",
    "\n",
    "\n",
    "# 回帰係数\n",
    "print(\"回帰係数: \", a)\n",
    "print(\"切片：\", b)\n",
    "print(\"決定係数：\", clf.score(X,Y))\n",
    "\n",
    "# 回帰係数:  [ 0.70068905 -0.64667957]\n",
    "# 切片： 12.184694815481183\n",
    "# 決定係数： 0.6624246214760456"
   ]
  },
  {
   "cell_type": "code",
   "execution_count": null,
   "metadata": {},
   "outputs": [],
   "source": []
  }
 ],
 "metadata": {
  "kernelspec": {
   "display_name": "Python 3",
   "language": "python",
   "name": "python3"
  },
  "language_info": {
   "codemirror_mode": {
    "name": "ipython",
    "version": 3
   },
   "file_extension": ".py",
   "mimetype": "text/x-python",
   "name": "python",
   "nbconvert_exporter": "python",
   "pygments_lexer": "ipython3",
   "version": "3.7.4"
  }
 },
 "nbformat": 4,
 "nbformat_minor": 2
}
