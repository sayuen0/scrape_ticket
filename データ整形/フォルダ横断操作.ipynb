{
 "cells": [
  {
   "cell_type": "code",
   "execution_count": 21,
   "metadata": {},
   "outputs": [
    {
     "data": {
      "text/plain": [
       "'unko'"
      ]
     },
     "execution_count": 21,
     "metadata": {},
     "output_type": "execute_result"
    }
   ],
   "source": [
    "# フォルダ横断操作\n",
    "# JanniesJrフォルダの全ての/日付/ticket.data[n].htmlを取得し前述の操作を行い\n",
    "# CSV/ジャニーズJr/日付/ticket-data[n].csvとして書き出し \n",
    "# +日付ごとに結合して1枚のCSVに書き出し\n",
    "# +全てを結合して一枚のCSVに書き出し\n",
    "\n",
    "\n",
    "import os\n",
    "from bs4 import BeautifulSoup\n",
    "\n",
    "for i in range(1,3):\n",
    "    if(os.path.isfile(f\"../ジャニーズJr/2019-05-16/ticket-data{i}.html\")):\n",
    "        r = BeautifulSoup(open(f\"../ジャニーズJr/2019-05-16/ticket-data{i}.html\"),\"html.parser\")\n",
    "#         print(r)\n"
   ]
  },
  {
   "cell_type": "code",
   "execution_count": 24,
   "metadata": {},
   "outputs": [],
   "source": [
    "# Notebookをモジュールとして呼び出せる\n",
    "\n",
    "import sys\n",
    "import notebookutil as nbu\n",
    "sys.meta_path.append(nbu.NotebookFinder())\n",
    "\n",
    "import データ整形"
   ]
  },
  {
   "cell_type": "code",
   "execution_count": null,
   "metadata": {},
   "outputs": [],
   "source": [
    "# TODO\n",
    "# モジュール呼び出しのために「データ整形」ファイルを「data_scraper」ファイルに移行\n",
    "# 処理を関数化、引数は渡すべきパラメータとdataframe\n",
    "# 帰り値は引数が追加されたdataframe"
   ]
  }
 ],
 "metadata": {
  "kernelspec": {
   "display_name": "Python 3",
   "language": "python",
   "name": "python3"
  },
  "language_info": {
   "codemirror_mode": {
    "name": "ipython",
    "version": 3
   },
   "file_extension": ".py",
   "mimetype": "text/x-python",
   "name": "python",
   "nbconvert_exporter": "python",
   "pygments_lexer": "ipython3",
   "version": "3.7.4"
  }
 },
 "nbformat": 4,
 "nbformat_minor": 2
}
