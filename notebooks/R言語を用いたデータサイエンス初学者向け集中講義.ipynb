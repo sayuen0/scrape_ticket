{
 "cells": [
  {
   "cell_type": "markdown",
   "metadata": {},
   "source": [
    "# 第一回　データ前処理"
   ]
  },
  {
   "cell_type": "code",
   "execution_count": null,
   "metadata": {},
   "outputs": [],
   "source": [
    "\n",
    "#-----------pick up the file path--------------\n",
    "path <- file.choose()\n",
    "path\n",
    "\n"
   ]
  },
  {
   "cell_type": "code",
   "execution_count": null,
   "metadata": {},
   "outputs": [],
   "source": [
    "#-----------read csv file as compounds--------------\n",
    "compounds <- read.csv(path)\n",
    "View(compounds)\n",
    "\n",
    "#-----------remove some columns if needed--------------\n",
    "trimed.compounds <- compounds[,]\n",
    "\n",
    "#-----------select rows without empty cells---------\n",
    "is.completes <- complete.cases(trimed.compounds)\n",
    "is.completes\n",
    "\n",
    "complete.compounds <- trimed.compounds[is.completes,]\n",
    "View(complete.compounds)\n",
    "\n",
    "#-----------select x from the dataset-----------------\n",
    "x <- complete.compounds[,c(3:35)]\n",
    "View(x)\n",
    "x.2 <- complete.compounds[,c(6:11,13,17:25)]\n",
    "View(x.2)\n",
    "\n",
    "#-----------calculate standard distribution of x------\n",
    "x.sds <- apply(x, 2, sd)\n",
    "x.sds[1]\n",
    "\n",
    "x.mean <- apply(x, 2, mean)\n",
    "x.mean[2]\n",
    "x.mean\n",
    "\n",
    "#-----------remove columns of 0 distribution from x----\n",
    "sd.is.not.0 <- x.sds != 0\n",
    "x <- x[, sd.is.not.0]\n",
    "View(x)\n",
    "\n",
    "#-----------select y from the dataset------------------\n",
    "y <- complete.compounds[,c(2)]\n",
    "y\n",
    "\n",
    "#-----------standarization of y------------------------\n",
    "preprocessed.y <- (y - mean(y)) / sd(y)\n",
    "mean(preprocessed.y)\n",
    "sd(preprocessed.y)\n",
    "\n",
    "#-----------standarization of x------------------------\n",
    "apply(x, 2, mean)\n",
    "apply(x, 2, sd)\n",
    "preprocessed.x <- apply(x, 2, function(x) {(x - mean(x)) / sd(x)})\n",
    "View(preprocessed.x)\n",
    "\n",
    "#-----------x converted into data frame type for machine learning-----------\n",
    "#class(preprocessed.x)\n",
    "preprocessed.x <- data.frame(preprocessed.x)\n",
    "#class(preprocessed.x)\n",
    "\n",
    "#apply(preprocessed.x, 2, mean)\n",
    "#apply(preprocessed.x, 2, sd)"
   ]
  }
 ],
 "metadata": {
  "kernelspec": {
   "display_name": "R",
   "language": "R",
   "name": "ir"
  },
  "language_info": {
   "codemirror_mode": "r",
   "file_extension": ".r",
   "mimetype": "text/x-r-source",
   "name": "R",
   "pygments_lexer": "r",
   "version": "3.5.1"
  }
 },
 "nbformat": 4,
 "nbformat_minor": 2
}
