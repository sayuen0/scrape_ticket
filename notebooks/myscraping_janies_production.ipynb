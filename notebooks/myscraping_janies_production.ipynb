{
 "cells": [
  {
   "cell_type": "code",
   "execution_count": null,
   "metadata": {},
   "outputs": [],
   "source": [
    "import requests\n",
    "from bs4 import BeautifulSoup\n",
    "import re\n",
    "import os\n",
    "\n",
    "\n",
    "#2019-03-12　みたいな日付けを作る\n",
    "def formatted_today():\n",
    "    import datetime\n",
    "    now = datetime.datetime.now()\n",
    "    today = \"{0:%Y-%m-%d}\".format(now)\n",
    "    return today\n",
    "\n",
    "# urlからソースを取ってくる。query_nameを指定するとフォルダを作成できる。\n",
    "#  query_name= ジャニーズJr　→ ジャニーズJr/2019-05-17 みたいに\n",
    "def get_save(src_url, query_name):\n",
    "    url = src_url\n",
    "\n",
    "#     試しに一回取得\n",
    "    r = requests.get(url)\n",
    "    soup  = BeautifulSoup(r.text,\"html.parser\").body\n",
    "\n",
    "# 全件を保存する為にページ数を計上\n",
    "# ページ数は .pager-countクラスの最後のノードに格納されている\n",
    "    pager_counts  = soup.select(\".pager-count\")\n",
    "    length = len(pager_counts)\n",
    "#     最後の.pager-countの番号：ページネーション数を計上 →63\n",
    "    last_page = pager_counts[length-1].find(\"a\").text\n",
    "    \n",
    "    \n",
    "#     1→63までループ\n",
    "# テストで63回も連続リクエストを送ると迷惑なので、\n",
    "    for i in range(1, int(last_page)+1):\n",
    "        url += (\"&pn=\" +last_page)\n",
    "        r = requests.get(url)\n",
    "        soup = BeautifulSoup(r.text, \"html.parser\")\n",
    "# 日付けからディレクトリ作成\n",
    "        date = formatted_today()\n",
    "        os.makedirs(query_name+\"/\"+date, exist_ok=True)\n",
    "#     書き込み\n",
    "        with open (date+\"/\"+\"ticket-data\"+str(i)+\".html\", mode=\"w\", encoding=\"utf-8\") as fw:\n",
    "            fw.write(soup.prettify())\n",
    "    \n",
    "\n",
    "get_save(\"https://www.ticket.co.jp/sys/d/208.htm?&un=100\")\n"
   ]
  },
  {
   "cell_type": "code",
   "execution_count": null,
   "metadata": {},
   "outputs": [],
   "source": []
  }
 ],
 "metadata": {
  "kernelspec": {
   "display_name": "Python 3",
   "language": "python",
   "name": "python3"
  },
  "language_info": {
   "codemirror_mode": {
    "name": "ipython",
    "version": 3
   },
   "file_extension": ".py",
   "mimetype": "text/x-python",
   "name": "python",
   "nbconvert_exporter": "python",
   "pygments_lexer": "ipython3",
   "version": "3.7.3"
  }
 },
 "nbformat": 4,
 "nbformat_minor": 2
}
