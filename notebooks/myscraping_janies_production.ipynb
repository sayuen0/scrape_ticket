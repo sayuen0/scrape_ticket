{
 "cells": [
  {
   "cell_type": "code",
   "execution_count": null,
   "metadata": {},
   "outputs": [],
   "source": [
    "import requests\n",
    "from bs4 import BeautifulSoup\n",
    "import re\n",
    "\n",
    "##いよいよチケットURLを取得\n",
    "import os\n",
    "\n",
    "\n",
    "\n",
    "url = \"https://www.ticket.co.jp/sys/d/208.html\"\n",
    "\n",
    "r = requests.get(url)\n",
    "soup  = BeautifulSoup(r.text,\"html.parser\")\n",
    "\n",
    "date = fommatted_today()\n",
    "os.mkdir(date)\n",
    "\n",
    "with open (date+\"/\"+\"ticket-data.html\", mode=\"w\", encoding=\"utf-8\") as fw:\n",
    "    fw.write(soup.prettify())\n",
    "    \n",
    "    \n",
    "#dateformatter\n",
    "\n",
    "def fommatted_today():\n",
    "    import datetime\n",
    "    now = datetime.datetime.now()\n",
    "    today = \"{0:%Y-%m-%d}\".format(now)\n",
    "    return today\n",
    "\n",
    "fommatted_today()"
   ]
  }
 ],
 "metadata": {
  "kernelspec": {
   "display_name": "Python 3",
   "language": "python",
   "name": "python3"
  },
  "language_info": {
   "codemirror_mode": {
    "name": "ipython",
    "version": 3
   },
   "file_extension": ".py",
   "mimetype": "text/x-python",
   "name": "python",
   "nbconvert_exporter": "python",
   "pygments_lexer": "ipython3",
   "version": "3.7.3"
  }
 },
 "nbformat": 4,
 "nbformat_minor": 2
}
